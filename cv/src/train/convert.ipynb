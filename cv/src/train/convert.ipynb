{
 "cells": [
  {
   "cell_type": "code",
   "execution_count": 1,
   "id": "dc9bbefa-914d-4b8e-a491-01c44174b368",
   "metadata": {
    "tags": []
   },
   "outputs": [
    {
     "name": "stdout",
     "output_type": "stream",
     "text": [
      "✅ Extracted 19253 images and labels to /home/jupyter/tilai-bjjsql/cv/src/train\n"
     ]
    }
   ],
   "source": [
    "# Convert images + annotations.json into YOLO training format\n",
    "\n",
    "import json\n",
    "from pathlib import Path\n",
    "from shutil import copyfile\n",
    "\n",
    "# Paths\n",
    "data_path = Path(\"/home/jupyter/novice/cv\")\n",
    "train_path = Path(\"/home/jupyter/tilai-bjjsql/cv/src/train\")\n",
    "images_in = data_path / \"images\"\n",
    "images_out = train_path / \"images\"\n",
    "labels_out = train_path / \"labels\"\n",
    "\n",
    "# Create output directories if not exist\n",
    "images_out.mkdir(parents=True, exist_ok=True)\n",
    "labels_out.mkdir(parents=True, exist_ok=True)\n",
    "\n",
    "# Load COCO annotations\n",
    "with open(data_path / \"annotations.json\") as f:\n",
    "    coco = json.load(f)\n",
    "\n",
    "# Index image info\n",
    "img_info = {img[\"id\"]: img for img in coco[\"images\"]}\n",
    "\n",
    "# Track which images we’ve already copied\n",
    "copied_images = set()\n",
    "\n",
    "# Convert annotations to YOLO format and copy images\n",
    "for ann in coco[\"annotations\"]:\n",
    "    image_id = ann[\"image_id\"]\n",
    "    cat_id = ann[\"category_id\"]\n",
    "    x, y, w, h = ann[\"bbox\"]\n",
    "\n",
    "    image = img_info[image_id]\n",
    "    file_name = image[\"file_name\"]\n",
    "    width, height = image[\"width\"], image[\"height\"]\n",
    "\n",
    "    # Convert bbox to YOLO format\n",
    "    x_center = (x + w / 2) / width\n",
    "    y_center = (y + h / 2) / height\n",
    "    w_norm = w / width\n",
    "    h_norm = h / height\n",
    "\n",
    "    # Save label line\n",
    "    label_path = labels_out / (Path(file_name).stem + \".txt\")\n",
    "    with open(label_path, \"a\") as f:\n",
    "        f.write(f\"{cat_id} {x_center:.6f} {y_center:.6f} {w_norm:.6f} {h_norm:.6f}\\n\")\n",
    "\n",
    "    # Copy image if not already done\n",
    "    if file_name not in copied_images:\n",
    "        copyfile(images_in / file_name, images_out / file_name)\n",
    "        copied_images.add(file_name)\n",
    "\n",
    "print(f\"✅ Extracted {len(copied_images)} images and labels to {train_path}\")"
   ]
  },
  {
   "cell_type": "code",
   "execution_count": null,
   "id": "b6c2de88-3c58-4837-9547-3de3a1482687",
   "metadata": {},
   "outputs": [],
   "source": []
  }
 ],
 "metadata": {
  "environment": {
   "kernel": "conda-base-py",
   "name": "workbench-notebooks.m129",
   "type": "gcloud",
   "uri": "us-docker.pkg.dev/deeplearning-platform-release/gcr.io/workbench-notebooks:m129"
  },
  "kernelspec": {
   "display_name": "Python 3 (ipykernel)",
   "language": "python",
   "name": "conda-base-py"
  },
  "language_info": {
   "codemirror_mode": {
    "name": "ipython",
    "version": 3
   },
   "file_extension": ".py",
   "mimetype": "text/x-python",
   "name": "python",
   "nbconvert_exporter": "python",
   "pygments_lexer": "ipython3",
   "version": "3.10.16"
  }
 },
 "nbformat": 4,
 "nbformat_minor": 5
}
